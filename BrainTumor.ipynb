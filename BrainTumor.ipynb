{
 "cells": [
  {
   "cell_type": "code",
   "execution_count": 1,
   "id": "47cc0876",
   "metadata": {},
   "outputs": [],
   "source": [
    "import pandas as pd\n",
    "import numpy as np\n",
    "import torch\n",
    "from torch.utils.data import Dataset, DataLoader, ConcatDataset\n",
    "import glob\n",
    "import matplotlib.pyplot as plt\n",
    "from sklearn.metrics import confusion_matrix, accuracy_score\n",
    "import random\n",
    "import cv2\n",
    "import torch.nn as nn\n",
    "import torch.nn.functional as F\n",
    "import sys\n",
    "device = torch.device(\"cuda\")"
   ]
  },
  {
   "cell_type": "code",
   "execution_count": 2,
   "id": "e1ba9fa7",
   "metadata": {},
   "outputs": [],
   "source": [
    "class Dataset(object):\n",
    "    def __getitem__(self, index):\n",
    "        raise NotImplementedError\n",
    "\n",
    "    def __len__(self):\n",
    "        raise NotImplementedError\n",
    "\n",
    "    def __add__(self, other):\n",
    "        return ConcatDataset([self, other])"
   ]
  },
  {
   "cell_type": "code",
   "execution_count": 3,
   "id": "3610bc0d",
   "metadata": {},
   "outputs": [],
   "source": [
    "import glob\n",
    "import cv2\n",
    "import numpy as np\n",
    "from sklearn.model_selection import train_test_split\n",
    "from torch.utils.data import Dataset\n",
    "\n",
    "class MRI(Dataset):\n",
    "    def __init__(self):\n",
    "        self.mode = 'train'\n",
    "        tumor = []\n",
    "        healthy = []\n",
    "        self.x_train, self.x_test, self.y_train, self.y_test = None, None, None, None\n",
    "        for i in glob.iglob(\"/archive/brain_tumor_dataset/yes/*.jpg\"):\n",
    "            img = cv2.imread(i)\n",
    "            img = cv2.resize(img, (128, 128))\n",
    "            b, g, r = cv2.split(img)\n",
    "            img = cv2.merge([r, g, b])\n",
    "            img = img.reshape((img.shape[2], img.shape[0], img.shape[1]))\n",
    "            tumor.append(img)\n",
    "\n",
    "        for i in glob.iglob(\"/archive/brain_tumor_dataset/no/*.jpg\"):\n",
    "            img = cv2.imread(i)\n",
    "            img = cv2.resize(img, (128, 128))\n",
    "            b, g, r = cv2.split(img)\n",
    "            img = cv2.merge([r, g, b])\n",
    "            img = img.reshape((img.shape[2], img.shape[0], img.shape[1]))\n",
    "            healthy.append(img)\n",
    "\n",
    "        tumor = np.array(tumor, dtype=np.float32)\n",
    "        healthy = np.array(healthy, dtype=np.float32)\n",
    "\n",
    "        tumor_labels = np.ones(tumor.shape[0], dtype=np.float32)\n",
    "        healthy_labels = np.ones(healthy.shape[0], dtype=np.float32)\n",
    "\n",
    "        self.images = np.concatenate((tumor, healthy), axis=0)\n",
    "        self.labels = np.concatenate((tumor_labels, healthy_labels), axis=0)\n",
    "\n",
    "    def train_val_split(self):\n",
    "      if self.images.shape[0] > 0:\n",
    "          self.x_train, self.x_test, self.y_train, self.y_test = train_test_split(\n",
    "              self.images, self.labels, test_size=0.2, random_state=42\n",
    "          )\n",
    "      else:\n",
    "          raise ValueError(\"Dataset is empty. Ensure images are loaded correctly.\")\n",
    "\n",
    "\n",
    "\n",
    "    def __len__(self):\n",
    "        if self.mode == \"train\":\n",
    "            return self.x_train.shape[0]\n",
    "        if self.mode == \"test\":\n",
    "            return self.x_test.shape[0]\n",
    "\n",
    "    def __getitem__(self, index):\n",
    "        if self.mode == \"train\":\n",
    "            return {\"image\": self.x_train[index], \"label\": self.y_train[index]}\n",
    "        if self.mode == \"test\":\n",
    "            return {\"image\": self.x_test[index], \"label\": self.y_test[index]}\n",
    "\n",
    "    def normalize(self):\n",
    "        self.images = self.images / 255.0\n",
    "\n",
    "\n"
   ]
  },
  {
   "cell_type": "code",
   "execution_count": 4,
   "id": "33741954",
   "metadata": {},
   "outputs": [],
   "source": [
    "\n",
    "class CNN(nn.Module):\n",
    "    def __init__(self):\n",
    "        super(CNN,self).__init__()\n",
    "        self.cnn_model = nn.Sequential(\n",
    "        nn.Conv2d(in_channels=3, out_channels=6, kernel_size=5),\n",
    "        nn.Tanh(),\n",
    "        nn.AvgPool2d(kernel_size=2, stride=5),\n",
    "        nn.Conv2d(in_channels=6, out_channels=16, kernel_size=5),\n",
    "        nn.Tanh(),\n",
    "        nn.AvgPool2d(kernel_size=2, stride=5))\n",
    "\n",
    "        self.fc_model = nn.Sequential(\n",
    "        nn.Linear(in_features=256, out_features=120),\n",
    "        nn.Tanh(),\n",
    "        nn.Linear(in_features=120, out_features=84),\n",
    "        nn.Tanh(),\n",
    "        nn.Linear(in_features=84, out_features=1))\n",
    "\n",
    "    def forward(self, x):\n",
    "        x = self.cnn_model(x)\n",
    "        x = x.view(x.size(0), -1)\n",
    "        x = self.fc_model(x)\n",
    "        x = F.sigmoid(x)\n",
    "\n",
    "        return x\n",
    "    def predicted_value(self, path):\n",
    "\n",
    "        img = cv2.imread(path)\n",
    "        img = cv2.resize(img, (128, 128))\n",
    "        b, g, r = cv2.split(img)\n",
    "        img = cv2.merge([r, g, b])\n",
    "        img = img.reshape((img.shape[2], img.shape[0], img.shape[1]))\n",
    "        img = np.array([img], dtype=np.float32)\n",
    "        img = img/255.0\n",
    "        img = torch.from_numpy(img).to(device,dtype=torch.float32)\n",
    "        # img = img.permute(0, 3, 1, 2)\n",
    "        # img = img.unsqueeze(0)\n",
    "        with torch.no_grad():\n",
    "          self.eval()\n",
    "          prediction = self(img).squeeze().cpu().numpy()\n",
    "        return prediction"
   ]
  },
  {
   "cell_type": "code",
   "execution_count": 5,
   "id": "96f6fbad",
   "metadata": {},
   "outputs": [
    {
     "ename": "ValueError",
     "evalue": "Dataset is empty. Ensure images are loaded correctly.",
     "output_type": "error",
     "traceback": [
      "\u001b[1;31m---------------------------------------------------------------------------\u001b[0m",
      "\u001b[1;31mValueError\u001b[0m                                Traceback (most recent call last)",
      "Cell \u001b[1;32mIn[5], line 3\u001b[0m\n\u001b[0;32m      1\u001b[0m mri \u001b[38;5;241m=\u001b[39m MRI()\n\u001b[0;32m      2\u001b[0m mri\u001b[38;5;241m.\u001b[39mnormalize()\n\u001b[1;32m----> 3\u001b[0m mri\u001b[38;5;241m.\u001b[39mtrain_val_split()\n",
      "Cell \u001b[1;32mIn[3], line 44\u001b[0m, in \u001b[0;36mMRI.train_val_split\u001b[1;34m(self)\u001b[0m\n\u001b[0;32m     40\u001b[0m     \u001b[38;5;28mself\u001b[39m\u001b[38;5;241m.\u001b[39mx_train, \u001b[38;5;28mself\u001b[39m\u001b[38;5;241m.\u001b[39mx_test, \u001b[38;5;28mself\u001b[39m\u001b[38;5;241m.\u001b[39my_train, \u001b[38;5;28mself\u001b[39m\u001b[38;5;241m.\u001b[39my_test \u001b[38;5;241m=\u001b[39m train_test_split(\n\u001b[0;32m     41\u001b[0m         \u001b[38;5;28mself\u001b[39m\u001b[38;5;241m.\u001b[39mimages, \u001b[38;5;28mself\u001b[39m\u001b[38;5;241m.\u001b[39mlabels, test_size\u001b[38;5;241m=\u001b[39m\u001b[38;5;241m0.2\u001b[39m, random_state\u001b[38;5;241m=\u001b[39m\u001b[38;5;241m42\u001b[39m\n\u001b[0;32m     42\u001b[0m     )\n\u001b[0;32m     43\u001b[0m \u001b[38;5;28;01melse\u001b[39;00m:\n\u001b[1;32m---> 44\u001b[0m     \u001b[38;5;28;01mraise\u001b[39;00m \u001b[38;5;167;01mValueError\u001b[39;00m(\u001b[38;5;124m\"\u001b[39m\u001b[38;5;124mDataset is empty. Ensure images are loaded correctly.\u001b[39m\u001b[38;5;124m\"\u001b[39m)\n",
      "\u001b[1;31mValueError\u001b[0m: Dataset is empty. Ensure images are loaded correctly."
     ]
    }
   ],
   "source": [
    "mri = MRI()\n",
    "mri.normalize()\n",
    "mri.train_val_split()"
   ]
  },
  {
   "cell_type": "code",
   "execution_count": null,
   "id": "5353d05b",
   "metadata": {},
   "outputs": [],
   "source": [
    "train_value = DataLoader(mri, batch_size=32, shuffle=True)\n",
    "test_value = DataLoader(mri, batch_size=32, shuffle=False)"
   ]
  },
  {
   "cell_type": "code",
   "execution_count": null,
   "id": "22e5a75a",
   "metadata": {},
   "outputs": [],
   "source": [
    "device = torch.device(\"cuda\")\n",
    "model = CNN().to(device)"
   ]
  },
  {
   "cell_type": "code",
   "execution_count": null,
   "id": "3cc22e3c",
   "metadata": {},
   "outputs": [],
   "source": [
    "optimizer = torch.optim.Adam(model.parameters(), lr=0.0001 )"
   ]
  },
  {
   "cell_type": "code",
   "execution_count": null,
   "id": "da64b6a7",
   "metadata": {},
   "outputs": [],
   "source": [
    "epochs_train_loss=[]\n",
    "epochs_test_loss=[]"
   ]
  },
  {
   "cell_type": "code",
   "execution_count": null,
   "id": "46572fec",
   "metadata": {},
   "outputs": [],
   "source": [
    "for epoch in range(1, 600):\n",
    "  train_loss = []\n",
    "  model.train()\n",
    "  mri.mode = \"train\"\n",
    "  for i in train_value:\n",
    "    optimizer.zero_grad()\n",
    "    data = i[\"image\"].to(device)\n",
    "    label = i[\"label\"].to(device)\n",
    "    y_hat = model(data)\n",
    "    loss = nn.BCEWithLogitsLoss()(y_hat.squeeze(), label)\n",
    "    loss.backward()\n",
    "    optimizer.step()\n",
    "    train_loss.append(loss.item())\n",
    "  epochs_train_loss.append(np.mean(train_loss))\n",
    "\n",
    "  test_loss = []\n",
    "  model.eval()\n",
    "  mri.mode-\"test\"\n",
    "  with torch.no_grad():\n",
    "    for i in test_value:\n",
    "      data = i[\"image\"].to(device)\n",
    "      label = i[\"label\"].to(device)\n",
    "      y_hat = model(data)\n",
    "      loss = nn.BCEWithLogitsLoss()(y_hat.squeeze(), label)\n",
    "      loss.backward()\n",
    "      optimizer.step()\n",
    "      test_loss.append(loss.item())\n",
    "  epochs_test_loss.append(np.mean(test_loss))\n",
    "\n",
    "  if (epoch+1 )%10 == 0:\n",
    "    print(f'Train Epoch: {epoch} Train Loss: {np.mean(train_loss)} Test Loss: {np.mean(test_loss)}')"
   ]
  },
  {
   "cell_type": "code",
   "execution_count": null,
   "id": "57062de0",
   "metadata": {},
   "outputs": [],
   "source": [
    "plt.figure(figsize=(16, 9))\n",
    "plt.plot(epochs_train_loss, c='b', label=\"Train Loss\")\n",
    "plt.plot(epochs_test_loss, c='r', label=\"Validation Loss\")\n",
    "plt.legend()\n",
    "plt.grid()\n",
    "plt.xlabel(\"Epochs\", fontsize=20)\n",
    "plt.xlabel(\"Loss\", fontsize=20)"
   ]
  },
  {
   "cell_type": "code",
   "execution_count": null,
   "id": "abd7d114",
   "metadata": {},
   "outputs": [],
   "source": [
    "def have_tumor(value):\n",
    "  return \"Having Brain Tumor\" if value>0.5 else \"No Brain Tumor\""
   ]
  },
  {
   "cell_type": "code",
   "execution_count": null,
   "id": "9621d3c5",
   "metadata": {},
   "outputs": [],
   "source": [
    "img_path = \"/content/drive/MyDrive/Brain Tumor/archive/brain_tumor_dataset/no/18 no.jpg\"\n",
    "predict_value = model.predicted_value(img_path)\n",
    "predict_value, have_tumor(predict_value)"
   ]
  },
  {
   "cell_type": "code",
   "execution_count": null,
   "id": "0d9f2dfb",
   "metadata": {},
   "outputs": [],
   "source": [
    "image_files = glob.iglob('/archive/brain_tumor_dataset/no/10 no.jpg')\n",
    "print(image_files)\n",
    "image_files = list(image_files)\n",
    "print(image_files)\n",
    "print(\"   \")\n",
    "if not image_files:\n",
    "    print(\"No image files found.\")\n",
    "else:\n",
    "    # Read the first image from the list (assuming there's only one)\n",
    "    image_path = image_files[0]\n",
    "    img = cv2.imread(image_path)\n",
    "\n",
    "    # Display the image\n",
    "    cv2.imshow('Image', img)\n",
    "    cv2.waitKey(0)\n",
    "    cv2.destroyAllWindows()"
   ]
  },
  {
   "cell_type": "code",
   "execution_count": null,
   "id": "85be0ed8",
   "metadata": {},
   "outputs": [],
   "source": []
  },
  {
   "cell_type": "code",
   "execution_count": null,
   "id": "2cb3f5ca",
   "metadata": {},
   "outputs": [],
   "source": []
  }
 ],
 "metadata": {
  "kernelspec": {
   "display_name": "Python 3 (ipykernel)",
   "language": "python",
   "name": "python3"
  },
  "language_info": {
   "codemirror_mode": {
    "name": "ipython",
    "version": 3
   },
   "file_extension": ".py",
   "mimetype": "text/x-python",
   "name": "python",
   "nbconvert_exporter": "python",
   "pygments_lexer": "ipython3",
   "version": "3.11.5"
  }
 },
 "nbformat": 4,
 "nbformat_minor": 5
}
